{
 "cells": [
  {
   "cell_type": "code",
   "execution_count": null,
   "id": "ef07a4f7",
   "metadata": {},
   "outputs": [],
   "source": [
    "print(\"Hello World\")"
   ]
  },
  {
   "cell_type": "code",
   "execution_count": null,
   "id": "0b72800c",
   "metadata": {},
   "outputs": [],
   "source": [
    "%pwd"
   ]
  },
  {
   "cell_type": "code",
   "execution_count": null,
   "id": "f48a1c69",
   "metadata": {},
   "outputs": [],
   "source": [
    "import os\n",
    "os.chdir(\"../\")"
   ]
  },
  {
   "cell_type": "code",
   "execution_count": null,
   "id": "cb8c229d",
   "metadata": {},
   "outputs": [],
   "source": [
    "%pwd"
   ]
  },
  {
   "cell_type": "code",
   "execution_count": null,
   "id": "b67c2062",
   "metadata": {},
   "outputs": [],
   "source": [
    "from langchain.document_loaders import PyPDFLoader , DirectoryLoader\n",
    "from langchain.text_splitter import RecursiveCharacterTextSplitter"
   ]
  },
  {
   "cell_type": "code",
   "execution_count": null,
   "id": "4c16ad71",
   "metadata": {},
   "outputs": [],
   "source": [
    "#data extraction from file\n",
    "def load_pdf(data):\n",
    "    loader = DirectoryLoader(data,\n",
    "                             glob=\"*.pdf\",\n",
    "                             loader_cls=PyPDFLoader)\n",
    "    documents = loader.load()\n",
    "\n",
    "    return documents"
   ]
  },
  {
   "cell_type": "code",
   "execution_count": null,
   "id": "6aa28985",
   "metadata": {},
   "outputs": [],
   "source": [
    "extracted_data = load_pdf(data = 'Data/')"
   ]
  },
  {
   "cell_type": "code",
   "execution_count": null,
   "id": "d6956aba",
   "metadata": {},
   "outputs": [],
   "source": [
    "#extracted_data"
   ]
  },
  {
   "cell_type": "code",
   "execution_count": 89,
   "id": "2b9d8b29",
   "metadata": {},
   "outputs": [],
   "source": [
    "#splitting data into chunks\n",
    "\n",
    "def text_split(extracted_data):\n",
    "    text_splitter = RecursiveCharacterTextSplitter(chunk_size=800, chunk_overlap=100)\n",
    "    text_chunks = text_splitter.split_documents(extracted_data)\n",
    "    return text_chunks"
   ]
  },
  {
   "cell_type": "code",
   "execution_count": 90,
   "id": "1dc127be",
   "metadata": {},
   "outputs": [
    {
     "name": "stdout",
     "output_type": "stream",
     "text": [
      "Length of Text Chunks 4704\n"
     ]
    }
   ],
   "source": [
    "text_chunks = text_split(extracted_data)\n",
    "print(\"Length of Text Chunks\", len(text_chunks))"
   ]
  },
  {
   "cell_type": "code",
   "execution_count": 91,
   "id": "db2834be",
   "metadata": {},
   "outputs": [],
   "source": [
    "#text_chunks"
   ]
  },
  {
   "cell_type": "code",
   "execution_count": 92,
   "id": "2d714195",
   "metadata": {},
   "outputs": [],
   "source": [
    "from langchain_community.embeddings import HuggingFaceEmbeddings"
   ]
  },
  {
   "cell_type": "code",
   "execution_count": null,
   "id": "507eb7ed",
   "metadata": {},
   "outputs": [],
   "source": [
    "def download_hugging_face_embeddings():\n",
    "    embeddings=HuggingFaceEmbeddings(model_name='sentence-transformers/all-MiniLM-L6-v2')\n",
    "    return embeddings"
   ]
  },
  {
   "cell_type": "code",
   "execution_count": null,
   "id": "c49288b1",
   "metadata": {},
   "outputs": [],
   "source": [
    "import sys\n",
    "print(sys.executable)"
   ]
  },
  {
   "cell_type": "code",
   "execution_count": null,
   "id": "bc6d395b",
   "metadata": {},
   "outputs": [],
   "source": [
    "embeddings = download_hugging_face_embeddings()\n"
   ]
  },
  {
   "cell_type": "code",
   "execution_count": null,
   "id": "55ea8099",
   "metadata": {},
   "outputs": [],
   "source": [
    "query_result = embeddings.embed_query(\"hello world\")\n",
    "print(\"length\", len(query_result))"
   ]
  },
  {
   "cell_type": "code",
   "execution_count": null,
   "id": "aff9b8aa",
   "metadata": {},
   "outputs": [],
   "source": [
    "#query_result "
   ]
  },
  {
   "cell_type": "code",
   "execution_count": null,
   "id": "30c91edf",
   "metadata": {},
   "outputs": [],
   "source": [
    "from dotenv import load_dotenv\n",
    "load_dotenv()"
   ]
  },
  {
   "cell_type": "code",
   "execution_count": null,
   "id": "48c87356",
   "metadata": {},
   "outputs": [],
   "source": [
    "PINECONE_API_KEY = os.environ.get('PINECONE_API_KEY')\n",
    "GEMINI_API_KEY = os.environ.get('GEMINI_API_KEY')\n"
   ]
  },
  {
   "cell_type": "code",
   "execution_count": 93,
   "id": "5eae6805",
   "metadata": {},
   "outputs": [],
   "source": [
    "from pinecone.grpc import PineconeGRPC as Pinecone\n",
    "from pinecone import ServerlessSpec\n",
    "import os\n",
    "\n",
    "pc = Pinecone(api_key=PINECONE_API_KEY)\n",
    "\n",
    "index_name = \"medibot\"\n",
    "\n",
    "#Create index only if it does NOT exist\n",
    "if index_name not in pc.list_indexes().names():\n",
    "    pc.create_index(\n",
    "        name=index_name,\n",
    "        dimension=384,   # must match your embedding model output size\n",
    "        metric=\"cosine\",\n",
    "        spec=ServerlessSpec(\n",
    "            cloud=\"aws\",\n",
    "            region=\"us-east-1\",\n",
    "        )\n",
    "    )\n"
   ]
  },
  {
   "cell_type": "code",
   "execution_count": 102,
   "id": "148537a8",
   "metadata": {},
   "outputs": [
    {
     "name": "stdout",
     "output_type": "stream",
     "text": [
      "c:\\Users\\HOME\\anaconda3\\envs\\medibot\\python.exe\n"
     ]
    }
   ],
   "source": [
    "import sys\n",
    "print(sys.executable)\n"
   ]
  },
  {
   "cell_type": "code",
   "execution_count": 103,
   "id": "bc78af0f",
   "metadata": {},
   "outputs": [
    {
     "name": "stdout",
     "output_type": "stream",
     "text": [
      "Requirement already satisfied: google-generativeai in c:\\users\\home\\anaconda3\\envs\\medibot\\lib\\site-packages (0.8.5)\n",
      "Requirement already satisfied: langchain-google-genai in c:\\users\\home\\anaconda3\\envs\\medibot\\lib\\site-packages (2.0.10)\n",
      "Requirement already satisfied: google-ai-generativelanguage==0.6.15 in c:\\users\\home\\anaconda3\\envs\\medibot\\lib\\site-packages (from google-generativeai) (0.6.15)\n",
      "Requirement already satisfied: google-api-core in c:\\users\\home\\anaconda3\\envs\\medibot\\lib\\site-packages (from google-generativeai) (2.25.1)\n",
      "Requirement already satisfied: google-api-python-client in c:\\users\\home\\anaconda3\\envs\\medibot\\lib\\site-packages (from google-generativeai) (2.181.0)\n",
      "Requirement already satisfied: google-auth>=2.15.0 in c:\\users\\home\\anaconda3\\envs\\medibot\\lib\\site-packages (from google-generativeai) (2.40.3)\n",
      "Requirement already satisfied: protobuf in c:\\users\\home\\anaconda3\\envs\\medibot\\lib\\site-packages (from google-generativeai) (5.29.5)\n",
      "Requirement already satisfied: pydantic in c:\\users\\home\\anaconda3\\envs\\medibot\\lib\\site-packages (from google-generativeai) (2.11.7)\n",
      "Requirement already satisfied: tqdm in c:\\users\\home\\anaconda3\\envs\\medibot\\lib\\site-packages (from google-generativeai) (4.67.1)\n",
      "Requirement already satisfied: typing-extensions in c:\\users\\home\\anaconda3\\envs\\medibot\\lib\\site-packages (from google-generativeai) (4.12.2)\n",
      "Requirement already satisfied: proto-plus<2.0.0dev,>=1.22.3 in c:\\users\\home\\anaconda3\\envs\\medibot\\lib\\site-packages (from google-ai-generativelanguage==0.6.15->google-generativeai) (1.26.1)\n",
      "Requirement already satisfied: googleapis-common-protos<2.0.0,>=1.56.2 in c:\\users\\home\\anaconda3\\envs\\medibot\\lib\\site-packages (from google-api-core->google-generativeai) (1.70.0)\n",
      "Requirement already satisfied: requests<3.0.0,>=2.18.0 in c:\\users\\home\\anaconda3\\envs\\medibot\\lib\\site-packages (from google-api-core->google-generativeai) (2.32.5)\n",
      "Requirement already satisfied: grpcio<2.0.0,>=1.33.2 in c:\\users\\home\\anaconda3\\envs\\medibot\\lib\\site-packages (from google-api-core[grpc]!=2.0.*,!=2.1.*,!=2.10.*,!=2.2.*,!=2.3.*,!=2.4.*,!=2.5.*,!=2.6.*,!=2.7.*,!=2.8.*,!=2.9.*,<3.0.0dev,>=1.34.1->google-ai-generativelanguage==0.6.15->google-generativeai) (1.74.0)\n",
      "Requirement already satisfied: grpcio-status<2.0.0,>=1.33.2 in c:\\users\\home\\anaconda3\\envs\\medibot\\lib\\site-packages (from google-api-core[grpc]!=2.0.*,!=2.1.*,!=2.10.*,!=2.2.*,!=2.3.*,!=2.4.*,!=2.5.*,!=2.6.*,!=2.7.*,!=2.8.*,!=2.9.*,<3.0.0dev,>=1.34.1->google-ai-generativelanguage==0.6.15->google-generativeai) (1.71.2)\n",
      "Requirement already satisfied: cachetools<6.0,>=2.0.0 in c:\\users\\home\\anaconda3\\envs\\medibot\\lib\\site-packages (from google-auth>=2.15.0->google-generativeai) (5.5.2)\n",
      "Requirement already satisfied: pyasn1-modules>=0.2.1 in c:\\users\\home\\anaconda3\\envs\\medibot\\lib\\site-packages (from google-auth>=2.15.0->google-generativeai) (0.4.2)\n",
      "Requirement already satisfied: rsa<5,>=3.1.4 in c:\\users\\home\\anaconda3\\envs\\medibot\\lib\\site-packages (from google-auth>=2.15.0->google-generativeai) (4.9.1)\n",
      "Requirement already satisfied: charset_normalizer<4,>=2 in c:\\users\\home\\anaconda3\\envs\\medibot\\lib\\site-packages (from requests<3.0.0,>=2.18.0->google-api-core->google-generativeai) (3.4.3)\n",
      "Requirement already satisfied: idna<4,>=2.5 in c:\\users\\home\\anaconda3\\envs\\medibot\\lib\\site-packages (from requests<3.0.0,>=2.18.0->google-api-core->google-generativeai) (3.10)\n",
      "Requirement already satisfied: urllib3<3,>=1.21.1 in c:\\users\\home\\anaconda3\\envs\\medibot\\lib\\site-packages (from requests<3.0.0,>=2.18.0->google-api-core->google-generativeai) (2.5.0)\n",
      "Requirement already satisfied: certifi>=2017.4.17 in c:\\users\\home\\anaconda3\\envs\\medibot\\lib\\site-packages (from requests<3.0.0,>=2.18.0->google-api-core->google-generativeai) (2025.8.3)\n",
      "Requirement already satisfied: pyasn1>=0.1.3 in c:\\users\\home\\anaconda3\\envs\\medibot\\lib\\site-packages (from rsa<5,>=3.1.4->google-auth>=2.15.0->google-generativeai) (0.6.1)\n",
      "Requirement already satisfied: filetype<2.0.0,>=1.2.0 in c:\\users\\home\\anaconda3\\envs\\medibot\\lib\\site-packages (from langchain-google-genai) (1.2.0)\n",
      "Requirement already satisfied: langchain-core<0.4.0,>=0.3.37 in c:\\users\\home\\anaconda3\\envs\\medibot\\lib\\site-packages (from langchain-google-genai) (0.3.75)\n",
      "Requirement already satisfied: langsmith>=0.3.45 in c:\\users\\home\\anaconda3\\envs\\medibot\\lib\\site-packages (from langchain-core<0.4.0,>=0.3.37->langchain-google-genai) (0.4.19)\n",
      "Requirement already satisfied: tenacity!=8.4.0,<10.0.0,>=8.1.0 in c:\\users\\home\\anaconda3\\envs\\medibot\\lib\\site-packages (from langchain-core<0.4.0,>=0.3.37->langchain-google-genai) (9.1.2)\n",
      "Requirement already satisfied: jsonpatch<2.0,>=1.33 in c:\\users\\home\\anaconda3\\envs\\medibot\\lib\\site-packages (from langchain-core<0.4.0,>=0.3.37->langchain-google-genai) (1.33)\n",
      "Requirement already satisfied: PyYAML>=5.3 in c:\\users\\home\\anaconda3\\envs\\medibot\\lib\\site-packages (from langchain-core<0.4.0,>=0.3.37->langchain-google-genai) (6.0.2)\n",
      "Requirement already satisfied: packaging>=23.2 in c:\\users\\home\\anaconda3\\envs\\medibot\\lib\\site-packages (from langchain-core<0.4.0,>=0.3.37->langchain-google-genai) (25.0)\n",
      "Requirement already satisfied: jsonpointer>=1.9 in c:\\users\\home\\anaconda3\\envs\\medibot\\lib\\site-packages (from jsonpatch<2.0,>=1.33->langchain-core<0.4.0,>=0.3.37->langchain-google-genai) (3.0.0)\n",
      "Requirement already satisfied: annotated-types>=0.6.0 in c:\\users\\home\\anaconda3\\envs\\medibot\\lib\\site-packages (from pydantic->google-generativeai) (0.7.0)\n",
      "Requirement already satisfied: pydantic-core==2.33.2 in c:\\users\\home\\anaconda3\\envs\\medibot\\lib\\site-packages (from pydantic->google-generativeai) (2.33.2)\n",
      "Requirement already satisfied: typing-inspection>=0.4.0 in c:\\users\\home\\anaconda3\\envs\\medibot\\lib\\site-packages (from pydantic->google-generativeai) (0.4.1)\n",
      "Requirement already satisfied: httpx<1,>=0.23.0 in c:\\users\\home\\anaconda3\\envs\\medibot\\lib\\site-packages (from langsmith>=0.3.45->langchain-core<0.4.0,>=0.3.37->langchain-google-genai) (0.28.1)\n",
      "Requirement already satisfied: orjson>=3.9.14 in c:\\users\\home\\anaconda3\\envs\\medibot\\lib\\site-packages (from langsmith>=0.3.45->langchain-core<0.4.0,>=0.3.37->langchain-google-genai) (3.11.3)\n",
      "Requirement already satisfied: requests-toolbelt>=1.0.0 in c:\\users\\home\\anaconda3\\envs\\medibot\\lib\\site-packages (from langsmith>=0.3.45->langchain-core<0.4.0,>=0.3.37->langchain-google-genai) (1.0.0)\n",
      "Requirement already satisfied: zstandard>=0.23.0 in c:\\users\\home\\anaconda3\\envs\\medibot\\lib\\site-packages (from langsmith>=0.3.45->langchain-core<0.4.0,>=0.3.37->langchain-google-genai) (0.23.0)\n",
      "Requirement already satisfied: anyio in c:\\users\\home\\anaconda3\\envs\\medibot\\lib\\site-packages (from httpx<1,>=0.23.0->langsmith>=0.3.45->langchain-core<0.4.0,>=0.3.37->langchain-google-genai) (4.10.0)\n",
      "Requirement already satisfied: httpcore==1.* in c:\\users\\home\\anaconda3\\envs\\medibot\\lib\\site-packages (from httpx<1,>=0.23.0->langsmith>=0.3.45->langchain-core<0.4.0,>=0.3.37->langchain-google-genai) (1.0.9)\n",
      "Requirement already satisfied: h11>=0.16 in c:\\users\\home\\anaconda3\\envs\\medibot\\lib\\site-packages (from httpcore==1.*->httpx<1,>=0.23.0->langsmith>=0.3.45->langchain-core<0.4.0,>=0.3.37->langchain-google-genai) (0.16.0)\n",
      "Requirement already satisfied: exceptiongroup>=1.0.2 in c:\\users\\home\\anaconda3\\envs\\medibot\\lib\\site-packages (from anyio->httpx<1,>=0.23.0->langsmith>=0.3.45->langchain-core<0.4.0,>=0.3.37->langchain-google-genai) (1.3.0)\n",
      "Requirement already satisfied: sniffio>=1.1 in c:\\users\\home\\anaconda3\\envs\\medibot\\lib\\site-packages (from anyio->httpx<1,>=0.23.0->langsmith>=0.3.45->langchain-core<0.4.0,>=0.3.37->langchain-google-genai) (1.3.1)\n",
      "Requirement already satisfied: httplib2<1.0.0,>=0.19.0 in c:\\users\\home\\anaconda3\\envs\\medibot\\lib\\site-packages (from google-api-python-client->google-generativeai) (0.30.0)\n",
      "Requirement already satisfied: google-auth-httplib2<1.0.0,>=0.2.0 in c:\\users\\home\\anaconda3\\envs\\medibot\\lib\\site-packages (from google-api-python-client->google-generativeai) (0.2.0)\n",
      "Requirement already satisfied: uritemplate<5,>=3.0.1 in c:\\users\\home\\anaconda3\\envs\\medibot\\lib\\site-packages (from google-api-python-client->google-generativeai) (4.2.0)\n",
      "Requirement already satisfied: pyparsing<4,>=3.0.4 in c:\\users\\home\\anaconda3\\envs\\medibot\\lib\\site-packages (from httplib2<1.0.0,>=0.19.0->google-api-python-client->google-generativeai) (3.2.3)\n",
      "Requirement already satisfied: colorama in c:\\users\\home\\anaconda3\\envs\\medibot\\lib\\site-packages (from tqdm->google-generativeai) (0.4.6)\n"
     ]
    }
   ],
   "source": [
    "import sys\n",
    "!{sys.executable} -m pip install google-generativeai langchain-google-genai\n"
   ]
  },
  {
   "cell_type": "code",
   "execution_count": 104,
   "id": "86fbb3e3",
   "metadata": {},
   "outputs": [],
   "source": [
    "import os\n",
    "os.environ[\"PINECONE_API_KEY\"] = PINECONE_API_KEY\n",
    "os.environ[\"GEMINI_API_KEY\"] = GEMINI_API_KEY\n"
   ]
  },
  {
   "cell_type": "code",
   "execution_count": 94,
   "id": "b4e49504",
   "metadata": {},
   "outputs": [],
   "source": [
    "FIRST_RUN = False   # 👈 change this to True only once when adding docs\n",
    "\n",
    "if FIRST_RUN:\n",
    "    docsearch = PineconeVectorStore.from_documents(\n",
    "        documents=text_chunks,\n",
    "        embedding=embeddings,\n",
    "        index_name=index_name\n",
    "    )\n",
    "else:\n",
    "    docsearch = PineconeVectorStore.from_existing_index(\n",
    "        index_name=index_name,\n",
    "        embedding=embeddings\n",
    "    )\n"
   ]
  },
  {
   "cell_type": "code",
   "execution_count": 95,
   "id": "9c8bfd1d",
   "metadata": {},
   "outputs": [],
   "source": [
    "#load the existing index\n",
    "from langchain_pinecone import PineconeVectorStore\n",
    "\n",
    "docsearch = PineconeVectorStore.from_existing_index(\n",
    "    index_name=index_name,\n",
    "    embedding=embeddings\n",
    ")"
   ]
  },
  {
   "cell_type": "code",
   "execution_count": null,
   "id": "ef3b3634",
   "metadata": {},
   "outputs": [],
   "source": [
    "docsearch"
   ]
  },
  {
   "cell_type": "code",
   "execution_count": null,
   "id": "77595e27",
   "metadata": {},
   "outputs": [],
   "source": [
    "retriever = docsearch.as_retriever(search_type=\"similarity\", search_kwargs={\"k\":8})\n"
   ]
  },
  {
   "cell_type": "code",
   "execution_count": null,
   "id": "d86b5cef",
   "metadata": {},
   "outputs": [],
   "source": [
    "retrieved_docs = retriever.invoke(\"What is acne?\")"
   ]
  },
  {
   "cell_type": "code",
   "execution_count": 96,
   "id": "9f4fa796",
   "metadata": {},
   "outputs": [
    {
     "data": {
      "text/plain": [
       "[Document(id='758f81af-b289-4434-b5e2-e0c3c9cd0ca0', metadata={'author': '', 'creationdate': '2017-05-01T10:37:35-07:00', 'creator': '', 'keywords': '', 'moddate': '2017-05-01T10:37:35-07:00', 'page': 425.0, 'page_label': '426', 'producer': 'GPL Ghostscript 9.10', 'source': 'Data\\\\Medical_book.pdf', 'subject': '', 'title': '', 'total_pages': 759.0}, page_content='Corticosteriod —A group of synthetic hormones\\nthat are used to prevent or reduce inflammation.\\nToxic effects may result from rapid withdrawal after\\nprolonged use or from continued use of large doses.\\nPatch test—A skin test that is done to identify aller-\\ngens. A suspected substance is applied to the skin.\\nAfter 24–48 hours, if the area is red and swollen,\\nthe test is positive for that substance. If no reaction\\noccurs, another substance is applied. This is con-'),\n",
       " Document(id='3c7f630d-4cfa-44b3-a613-9dc57e8d2a91', metadata={'author': '', 'creationdate': '2017-05-01T10:37:35-07:00', 'creator': '', 'keywords': '', 'moddate': '2017-05-01T10:37:35-07:00', 'page': 298.0, 'page_label': '299', 'producer': 'GPL Ghostscript 9.10', 'source': 'Data\\\\Medical_book.pdf', 'subject': '', 'title': '', 'total_pages': 759.0}, page_content='Corticosteroids —A group of anti-inflammatory\\nsubstances often used to treat skin conditions.\\nImmune response—The protective reaction by the\\nimmune system against foreign antigens (sub-\\nstances that the body perceives as potentially dan-\\ngerous). The immune system combats disease by\\nneutralizing or destroying antigens.\\ncontact dermatitis becomes a chronic and disabling con-\\ndition that can have a profound effect on employability\\nand quality of life.\\nPrevention'),\n",
       " Document(id='fd1b06bf-31e7-4327-aa3f-244099a7a6ee', metadata={'author': '', 'creationdate': '2017-05-01T10:37:35-07:00', 'creator': '', 'keywords': '', 'moddate': '2017-05-01T10:37:35-07:00', 'page': 423.0, 'page_label': '424', 'producer': 'GPL Ghostscript 9.10', 'source': 'Data\\\\Medical_book.pdf', 'subject': '', 'title': '', 'total_pages': 759.0}, page_content='thing that irritates the skin and is manifested by one or\\nmore lines of red, swollen, blistered skin that may itch or\\nGALE ENCYCLOPEDIA OF MEDICINE 21036\\nDermatitis'),\n",
       " Document(id='c38fe278-6570-4806-a508-7fdf1d7c4ddb', metadata={'author': '', 'creationdate': '2017-05-01T10:37:35-07:00', 'creator': '', 'keywords': '', 'moddate': '2017-05-01T10:37:35-07:00', 'page': 425.0, 'page_label': '426', 'producer': 'GPL Ghostscript 9.10', 'source': 'Data\\\\Medical_book.pdf', 'subject': '', 'title': '', 'total_pages': 759.0}, page_content='tinued until the patient experiences an allergic\\nreaction where the irritant was applied to the skin.\\nRash—A spotted, pink or red skin eruption that\\nmay be accompanied by itching and is caused by\\ndisease, contact with an allergen, food ingestion,\\nor drug reaction.\\nUlcer—An open sore on the skin, resulting from\\ntissue destruction, that is usually accompanied by\\nredness, pain, or infection.\\nPatients who have a history of dermatitis should\\nremove their rings before washing their hands. They'),\n",
       " Document(id='4aeed736-31b3-46e3-bdbb-f0b09f678b38', metadata={'author': '', 'creationdate': '2017-05-01T10:37:35-07:00', 'creator': '', 'keywords': '', 'moddate': '2017-05-01T10:37:35-07:00', 'page': 297.0, 'page_label': '298', 'producer': 'GPL Ghostscript 9.10', 'source': 'Data\\\\Medical_book.pdf', 'subject': '', 'title': '', 'total_pages': 759.0}, page_content='repeated exposure to an allergen (an allergy-causing sub-\\nstance) triggers an immune response that inflames the\\nskin. Tens of thousands of drugs, pesticides, cosmetics,\\nfood additives, commercial chemicals, and other sub-\\nstances have been identified as potential allergens. Fewer\\nthan 30, however, are responsible the majority of ACD\\ncases. Common culprits include poison ivy, poison oak,\\nand poison sumac; fragrances and preservatives in cosmet-'),\n",
       " Document(id='85852a8e-2407-4a1d-9ddb-2895b1532d7a', metadata={'author': '', 'creationdate': '2017-05-01T10:37:35-07:00', 'creator': '', 'keywords': '', 'moddate': '2017-05-01T10:37:35-07:00', 'page': 423.0, 'page_label': '424', 'producer': 'GPL Ghostscript 9.10', 'source': 'Data\\\\Medical_book.pdf', 'subject': '', 'title': '', 'total_pages': 759.0}, page_content='National Institute of Mental Health. Mental Health Public\\nInquiries, 5600 Fishers Lane, Room 15C-05, Rockville,\\nMD 20857. (888) 826-9438. <http://www.nimh.nih.gov>.\\nPaula Anne Ford-Martin\\nDermabrasion see Skin resurfacing\\nDermatitis\\nDefinition\\nDermatitis is a general term used to describe inflam-\\nmation of the skin.\\nDescription\\nMost types of dermatitis are characterized by an\\nitchy pink or red rash.\\nContact dermatitis is an allergic reaction to some-'),\n",
       " Document(id='2d4b9880-236e-4fe6-9c5a-e8e1147f3042', metadata={'author': '', 'creationdate': '2017-05-01T10:37:35-07:00', 'creator': '', 'keywords': '', 'moddate': '2017-05-01T10:37:35-07:00', 'page': 297.0, 'page_label': '298', 'producer': 'GPL Ghostscript 9.10', 'source': 'Data\\\\Medical_book.pdf', 'subject': '', 'title': '', 'total_pages': 759.0}, page_content='ics and personal care products; latex items such as gloves\\nand condoms; and formaldehyde. Many people find that\\nthey are allergic to the nickel in inexpensive jewelry. ACD\\nis usually confined to the area of skin that comes in contact\\nwith the allergen, typically the hands or face. Symptoms\\nrange from mild to severe and resemble those of ICD; a\\npatch test may be needed to determine which kind of con-\\ntact dermatitis a person is suffering from.\\nDiagnosis'),\n",
       " Document(id='a32142fa-5bd6-4fcb-b4a9-085d83896b33', metadata={'author': '', 'creationdate': '2017-05-01T10:37:35-07:00', 'creator': '', 'keywords': '', 'moddate': '2017-05-01T10:37:35-07:00', 'page': 367.0, 'page_label': '368', 'producer': 'GPL Ghostscript 9.10', 'source': 'Data\\\\Medical_book.pdf', 'subject': '', 'title': '', 'total_pages': 759.0}, page_content='culation, leading to a bluish skin coloration.\\n(Photo\\nResearchers, Inc. Reproduced by permission.)')]"
      ]
     },
     "execution_count": 96,
     "metadata": {},
     "output_type": "execute_result"
    }
   ],
   "source": [
    "retrieved_docs"
   ]
  },
  {
   "cell_type": "code",
   "execution_count": 105,
   "id": "27c8a545",
   "metadata": {},
   "outputs": [],
   "source": [
    "import os\n",
    "\n",
    "# put your Gemini API key here (from Google AI Studio)\n",
    "os.environ[\"GEMINI_API_KEY\"] = GEMINI_API_KEY\n"
   ]
  },
  {
   "cell_type": "code",
   "execution_count": 106,
   "id": "c85e012d",
   "metadata": {},
   "outputs": [
    {
     "name": "stdout",
     "output_type": "stream",
     "text": [
      "models/embedding-gecko-001 → ['embedText', 'countTextTokens']\n",
      "models/gemini-1.5-pro-latest → ['generateContent', 'countTokens']\n",
      "models/gemini-1.5-pro-002 → ['generateContent', 'countTokens', 'createCachedContent']\n",
      "models/gemini-1.5-pro → ['generateContent', 'countTokens']\n",
      "models/gemini-1.5-flash-latest → ['generateContent', 'countTokens']\n",
      "models/gemini-1.5-flash → ['generateContent', 'countTokens']\n",
      "models/gemini-1.5-flash-002 → ['generateContent', 'countTokens', 'createCachedContent']\n",
      "models/gemini-1.5-flash-8b → ['createCachedContent', 'generateContent', 'countTokens']\n",
      "models/gemini-1.5-flash-8b-001 → ['createCachedContent', 'generateContent', 'countTokens']\n",
      "models/gemini-1.5-flash-8b-latest → ['createCachedContent', 'generateContent', 'countTokens']\n",
      "models/gemini-2.5-pro-preview-03-25 → ['generateContent', 'countTokens', 'createCachedContent', 'batchGenerateContent']\n",
      "models/gemini-2.5-flash-preview-05-20 → ['generateContent', 'countTokens', 'createCachedContent', 'batchGenerateContent']\n",
      "models/gemini-2.5-flash → ['generateContent', 'countTokens', 'createCachedContent', 'batchGenerateContent']\n",
      "models/gemini-2.5-flash-lite-preview-06-17 → ['generateContent', 'countTokens', 'createCachedContent', 'batchGenerateContent']\n",
      "models/gemini-2.5-pro-preview-05-06 → ['generateContent', 'countTokens', 'createCachedContent', 'batchGenerateContent']\n",
      "models/gemini-2.5-pro-preview-06-05 → ['generateContent', 'countTokens', 'createCachedContent', 'batchGenerateContent']\n",
      "models/gemini-2.5-pro → ['generateContent', 'countTokens', 'createCachedContent', 'batchGenerateContent']\n",
      "models/gemini-2.0-flash-exp → ['generateContent', 'countTokens', 'bidiGenerateContent']\n",
      "models/gemini-2.0-flash → ['generateContent', 'countTokens', 'createCachedContent', 'batchGenerateContent']\n",
      "models/gemini-2.0-flash-001 → ['generateContent', 'countTokens', 'createCachedContent', 'batchGenerateContent']\n",
      "models/gemini-2.0-flash-exp-image-generation → ['generateContent', 'countTokens', 'bidiGenerateContent']\n",
      "models/gemini-2.0-flash-lite-001 → ['generateContent', 'countTokens', 'createCachedContent', 'batchGenerateContent']\n",
      "models/gemini-2.0-flash-lite → ['generateContent', 'countTokens', 'createCachedContent', 'batchGenerateContent']\n",
      "models/gemini-2.0-flash-preview-image-generation → ['generateContent', 'countTokens']\n",
      "models/gemini-2.0-flash-lite-preview-02-05 → ['generateContent', 'countTokens', 'createCachedContent', 'batchGenerateContent']\n",
      "models/gemini-2.0-flash-lite-preview → ['generateContent', 'countTokens', 'createCachedContent', 'batchGenerateContent']\n",
      "models/gemini-2.0-pro-exp → ['generateContent', 'countTokens', 'createCachedContent', 'batchGenerateContent']\n",
      "models/gemini-2.0-pro-exp-02-05 → ['generateContent', 'countTokens', 'createCachedContent', 'batchGenerateContent']\n",
      "models/gemini-exp-1206 → ['generateContent', 'countTokens', 'createCachedContent', 'batchGenerateContent']\n",
      "models/gemini-2.0-flash-thinking-exp-01-21 → ['generateContent', 'countTokens', 'createCachedContent', 'batchGenerateContent']\n",
      "models/gemini-2.0-flash-thinking-exp → ['generateContent', 'countTokens', 'createCachedContent', 'batchGenerateContent']\n",
      "models/gemini-2.0-flash-thinking-exp-1219 → ['generateContent', 'countTokens', 'createCachedContent', 'batchGenerateContent']\n",
      "models/gemini-2.5-flash-preview-tts → ['countTokens', 'generateContent']\n",
      "models/gemini-2.5-pro-preview-tts → ['countTokens', 'generateContent']\n",
      "models/learnlm-2.0-flash-experimental → ['generateContent', 'countTokens']\n",
      "models/gemma-3-1b-it → ['generateContent', 'countTokens']\n",
      "models/gemma-3-4b-it → ['generateContent', 'countTokens']\n",
      "models/gemma-3-12b-it → ['generateContent', 'countTokens']\n",
      "models/gemma-3-27b-it → ['generateContent', 'countTokens']\n",
      "models/gemma-3n-e4b-it → ['generateContent', 'countTokens']\n",
      "models/gemma-3n-e2b-it → ['generateContent', 'countTokens']\n",
      "models/gemini-2.5-flash-lite → ['generateContent', 'countTokens', 'createCachedContent', 'batchGenerateContent']\n",
      "models/gemini-2.5-flash-image-preview → ['generateContent', 'countTokens']\n",
      "models/embedding-001 → ['embedContent']\n",
      "models/text-embedding-004 → ['embedContent']\n",
      "models/gemini-embedding-exp-03-07 → ['embedContent', 'countTextTokens', 'countTokens']\n",
      "models/gemini-embedding-exp → ['embedContent', 'countTextTokens', 'countTokens']\n",
      "models/gemini-embedding-001 → ['embedContent', 'countTextTokens', 'countTokens']\n",
      "models/aqa → ['generateAnswer']\n",
      "models/imagen-3.0-generate-002 → ['predict']\n",
      "models/imagen-4.0-generate-preview-06-06 → ['predict']\n",
      "models/imagen-4.0-ultra-generate-preview-06-06 → ['predict']\n",
      "models/imagen-4.0-generate-001 → ['predict']\n",
      "models/imagen-4.0-ultra-generate-001 → ['predict']\n",
      "models/imagen-4.0-fast-generate-001 → ['predict']\n",
      "models/veo-2.0-generate-001 → ['predictLongRunning']\n",
      "models/veo-3.0-generate-preview → ['predictLongRunning']\n",
      "models/veo-3.0-fast-generate-preview → ['predictLongRunning']\n",
      "models/gemini-2.5-flash-preview-native-audio-dialog → ['countTokens', 'bidiGenerateContent']\n",
      "models/gemini-2.5-flash-exp-native-audio-thinking-dialog → ['countTokens', 'bidiGenerateContent']\n",
      "models/gemini-2.0-flash-live-001 → ['bidiGenerateContent', 'countTokens']\n",
      "models/gemini-live-2.5-flash-preview → ['bidiGenerateContent', 'countTokens']\n",
      "models/gemini-2.5-flash-live-preview → ['bidiGenerateContent', 'countTokens']\n"
     ]
    }
   ],
   "source": [
    "import google.generativeai as genai\n",
    "genai.configure(api_key=os.environ[\"GEMINI_API_KEY\"])\n",
    "\n",
    "for m in genai.list_models():\n",
    "    print(m.name, \"→\", m.supported_generation_methods)\n"
   ]
  },
  {
   "cell_type": "code",
   "execution_count": null,
   "id": "a5a3949f",
   "metadata": {},
   "outputs": [],
   "source": [
    "from langchain_google_genai import ChatGoogleGenerativeAI\n",
    "\n",
    "\n",
    "llm = ChatGoogleGenerativeAI(\n",
    "    model=\"models/gemini-1.5-flash-latest\",   \n",
    "    temperature=0.4,\n",
    "    max_output_tokens=500\n",
    ")\n",
    "\n"
   ]
  },
  {
   "cell_type": "code",
   "execution_count": null,
   "id": "be430b2f",
   "metadata": {},
   "outputs": [],
   "source": [
    "from langchain.chains import create_retrieval_chain\n",
    "from langchain.chains.combine_documents import create_stuff_documents_chain\n",
    "from langchain_core.prompts import ChatPromptTemplate\n",
    "\n",
    "# ---- SYSTEM PROMPT ----\n",
    "system_prompt = \"\"\"\n",
    "You are a medical assistant chatbot.\n",
    "\n",
    "Rules:\n",
    "1. If the document has relevant information, use it and say: \"According to the provided document, ...\"\n",
    "2. If the document does not have relevant information but the user’s question is medical, answer using your own medical knowledge and say: \"Based on general medical knowledge, ...\"\n",
    "3. If the question is not related to medicine, reply only with: \"I don't know.\"\n",
    "4. Always keep responses factual and concise.\n",
    "\n",
    "{context}\n",
    "\"\"\"\n",
    "\n",
    "prompt = ChatPromptTemplate.from_messages(\n",
    "    [\n",
    "        (\"system\", system_prompt),\n",
    "        (\"human\", \"{input}\"),\n",
    "    ]\n",
    ")"
   ]
  },
  {
   "cell_type": "code",
   "execution_count": 97,
   "id": "b413a796",
   "metadata": {},
   "outputs": [],
   "source": [
    "question_answer_chain = create_stuff_documents_chain(llm,prompt)\n",
    "rag_chain = create_retrieval_chain(retriever,question_answer_chain)"
   ]
  },
  {
   "cell_type": "code",
   "execution_count": 98,
   "id": "0aa74f35",
   "metadata": {},
   "outputs": [
    {
     "name": "stdout",
     "output_type": "stream",
     "text": [
      "Corticosteroids —A group of hormones produced\n",
      "naturally by the adrenal gland or manufactured syn-\n",
      "thetically. They are often used to treat inflammation.\n",
      "Examples include cortisone and prednisone.\n",
      "Immunocompromised —A state in which the\n",
      "immune system is suppressed or not functioning\n",
      "properly.\n",
      "Meningi\n",
      "cells and fibrin clot. Reagents are substances added\n",
      "to the serum to produce a chemical reaction.\n",
      "Thrombosis—Formation of a clot in the blood that\n",
      "either blocks, or partially blocks a blood vessel.\n",
      "The thrombus may lead to infarction, or death of\n",
      "tissue, due to a blocked blood supply.\n",
      "tors. Severe h\n",
      "monly known coagulation disorder is hemophilia, a con-\n",
      "dition in which patients bleed for long periods of time\n",
      "before clotting. There are other coagulation disorders\n",
      "with a variety of causes.\n",
      "Description\n",
      "Coagulation, or clotting, occurs as a complex\n",
      "process involving several components of the blood.\n",
      "appearance are also signs of V on Willebrand’s disease.\n",
      "Hypoprothrombinemia\n",
      "This disorder is a deficiency in prothrombin, or Factor\n",
      "II, a glycoprotein formed and stored in the liver. Prothrom-\n",
      "bin, under the right conditions, is converted to thrombin,\n",
      "which activates fibrin and begins the process of\n",
      "process.\n",
      "Prothrombin —A type of protein called a glyco-\n",
      "protein that is converted to thrombin during the\n",
      "clotting process.\n",
      "Thrombin—An enzyme that converts fibrinogen\n",
      "into strands of fibrin.\n",
      "plants, blood clots in the lung, certain cancers, and heart\n",
      "attack (myocardial infarction).\n",
      "Resources\n",
      "BOOKS\n",
      "M\n",
      "of the “coagulation cascade,” a series of reactions in the\n",
      "blood triggered by tissue injury and platelet activation.\n",
      "With each step in the cascade, a coagulation factor in the\n",
      "blood is converted from an inactive to an active form.\n",
      "The active form of the factor then activates several mole-\n",
      "cules of t\n",
      "Iatrogenic—Caused by a medical procedure.\n",
      "Nucleic acids —The cellular molecules DNA and\n",
      "RNA that act as coded instructions for the produc-\n",
      "tion of proteins and are copied for transmission of\n",
      "inherited traits.\n",
      "chromosome 5. Individuals with this syndrome have\n",
      "unusual facial features, poor muscle tone\n",
      "tein), which activate the fibrinolytic system, releasing\n",
      "clotting factors in the blood. DIC can alternate from hem-\n",
      "orrhage to thrombosis, and both can exist, which further\n",
      "complicates diagnosis and treatment.\n",
      "Thrombocytopenia\n",
      "Thrombocytopenia may be acquired or congenital. It\n",
      "represents a defective\n"
     ]
    }
   ],
   "source": [
    "docs = retriever.get_relevant_documents(\"What is acromegaly?\")\n",
    "for d in docs:\n",
    "    print(d.page_content[:300])  # preview first 300 chars\n"
   ]
  },
  {
   "cell_type": "code",
   "execution_count": 107,
   "id": "bcbfe837",
   "metadata": {},
   "outputs": [
    {
     "name": "stdout",
     "output_type": "stream",
     "text": [
      "Based on general medical knowledge, acne is a common skin condition that occurs when hair follicles become clogged with oil and dead skin cells.  This can lead to pimples, blackheads, and whiteheads.\n"
     ]
    }
   ],
   "source": [
    "response = rag_chain.invoke({\"input\": \"What is Acne?\"})\n",
    "print(response[\"answer\"])"
   ]
  },
  {
   "cell_type": "code",
   "execution_count": null,
   "id": "559e6e9f",
   "metadata": {},
   "outputs": [],
   "source": [
    "response = rag_chain.invoke({\"input\": \"What is primie minister?\"})\n",
    "print(response[\"answer\"])"
   ]
  },
  {
   "cell_type": "code",
   "execution_count": 101,
   "id": "0d19577e",
   "metadata": {},
   "outputs": [
    {
     "name": "stdout",
     "output_type": "stream",
     "text": [
      "Based on general medical knowledge, acromegaly and gigantism are both caused by excessive growth hormone, but they occur at different ages.  Acromegaly occurs in adults after the growth plates have closed, resulting in enlargement of the hands, feet, and facial features. Gigantism occurs in children before the growth plates close, leading to excessive overall growth and increased height.\n"
     ]
    }
   ],
   "source": [
    "response = rag_chain.invoke({\"input\": \"What is acromegaly and gigantism?\"})\n",
    "print(response[\"answer\"])"
   ]
  }
 ],
 "metadata": {
  "kernelspec": {
   "display_name": "medibot",
   "language": "python",
   "name": "python3"
  },
  "language_info": {
   "codemirror_mode": {
    "name": "ipython",
    "version": 3
   },
   "file_extension": ".py",
   "mimetype": "text/x-python",
   "name": "python",
   "nbconvert_exporter": "python",
   "pygments_lexer": "ipython3",
   "version": "3.10.18"
  }
 },
 "nbformat": 4,
 "nbformat_minor": 5
}
